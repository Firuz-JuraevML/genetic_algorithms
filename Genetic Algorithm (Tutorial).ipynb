{
 "cells": [
  {
   "cell_type": "markdown",
   "id": "b0fb9db4-0d7d-4a1d-9cfe-6522296a2221",
   "metadata": {},
   "source": [
    "## Genetic Algorithm  \n",
    "> * With Bag of 3kg example\n",
    "> * On Youtube: https://www.youtube.com/watch?v=nhT56blfRpE&t=603s\n",
    "> * Github: https://github.com/kiecodes/genetic-algorithms/tree/master "
   ]
  },
  {
   "cell_type": "code",
   "execution_count": 18,
   "id": "d81f2015-c18e-48b9-9309-4b0ad6a15566",
   "metadata": {},
   "outputs": [],
   "source": [
    "from collections import namedtuple\n",
    "from random import choices, randint, randrange, random \n",
    "from typing import List, Callable, Tuple \n",
    "from functools import partial"
   ]
  },
  {
   "cell_type": "code",
   "execution_count": 27,
   "id": "12788d8d-1874-414b-87df-f51f92e8d5da",
   "metadata": {},
   "outputs": [],
   "source": [
    "Genome = List[int] \n",
    "Population = List[Genome] \n",
    "FitnessFunc = Callable[[Genome], int]\n",
    "PopulateFunc = Callable[[], Population]\n",
    "SelectionFunc = Callable[[Population, FitnessFunc], Tuple[Genome, Genome]]\n",
    "CrossoverFunc = Callable[[Genome, Genome], Tuple[Genome, Genome]] \n",
    "MutationFunc = Callable[[Genome], Genome]\n",
    "Thing = namedtuple('Thing', ['name', 'value', 'weight']) \n",
    "\n",
    "things = [\n",
    "    Thing('Laptop', 500, 2200), \n",
    "    Thing('Headphones', 150, 160), \n",
    "    Thing('Coffee Mug', 60, 350), \n",
    "    Thing('Notepad', 40, 333), \n",
    "    Thing('Water Bottle', 30, 192), \n",
    "]\n",
    "\n",
    "more_things = [\n",
    "    Thing('Mints', 5, 25), \n",
    "    Thing('Socks', 10, 38), \n",
    "    Thing('Tissues', 15, 80), \n",
    "    Thing('Phone', 500, 200), \n",
    "    Thing('Baseball Cap', 100, 70), \n",
    "] + things \n",
    "\n",
    "def generate_genome(length: int) -> Genome: \n",
    "    return choices([0, 1], k=length) \n",
    "\n",
    "\n",
    "def generate_population(size: int, genome_length: int) -> Population: \n",
    "    return [generate_genome(genome_length) for _ in range(size)] \n",
    "\n",
    "\n",
    "def fitness(genome: Genome, things: [Thing], weight_limit: int) -> int: \n",
    "    if len(genome) != len(things): \n",
    "        raise ValueError(\"genome and things must be of the same length\") \n",
    "\n",
    "    weight = 0 \n",
    "    value = 0 \n",
    "\n",
    "    for i, thing in enumerate(things): \n",
    "        if genome[i] == 1: \n",
    "            weight += thing.weight \n",
    "            value += thing.value \n",
    "\n",
    "            if weight > weight_limit: \n",
    "                return 0 \n",
    "    \n",
    "    return value \n",
    "\n",
    "\n",
    "def selection_pair(population: Population, fitness_func: FitnessFunc) -> Population: \n",
    "    return choices(\n",
    "        population=population, \n",
    "        weights=[fitness_func(genome) for genome in population], \n",
    "        k=2\n",
    "    )\n",
    "\n",
    "\n",
    "def single_point_crossover(a: Genome, b: Genome) -> Tuple[Genome, Genome]: \n",
    "    if len(a) != len(b): \n",
    "        raise ValueError(\"Genome a and b must be the same length\")\n",
    "\n",
    "\n",
    "    length = len(a) \n",
    "    if length < 2: \n",
    "        return a, b \n",
    "\n",
    "    p = randint(1, length - 1) \n",
    "    return a[0:p] + b[p:], b[0:p] + a[p:] \n",
    "\n",
    "\n",
    "def mutation(genome: Genome, num: int = 1, probability: float = 0.5) -> Genome: \n",
    "    for _ in range(num): \n",
    "        index = randrange(len(genome)) \n",
    "        genome[index] = genome[index] if random() > probability else abs(genome[index] - 1)\n",
    "\n",
    "    return genome "
   ]
  },
  {
   "cell_type": "code",
   "execution_count": 31,
   "id": "5e73f41c-1608-4a1b-a47e-74943276fec7",
   "metadata": {},
   "outputs": [],
   "source": [
    "def run_evolution(\n",
    "        populate_func: PopulateFunc,\n",
    "        fitness_func: FitnessFunc,\n",
    "        fitness_limit: int,\n",
    "        selection_func: SelectionFunc = selection_pair,\n",
    "        crossover_func: CrossoverFunc = single_point_crossover,\n",
    "        mutation_func: MutationFunc = mutation,\n",
    "        generation_limit: int = 100) \\\n",
    "        -> Tuple[Population, int]:\n",
    "    population = populate_func()\n",
    "\n",
    "    for i in range(generation_limit):\n",
    "        population = sorted(population, key=lambda genome: fitness_func(genome), reverse=True)\n",
    "\n",
    "        if fitness_func(population[0]) >= fitness_limit:\n",
    "            break\n",
    "\n",
    "        next_generation = population[0:2]\n",
    "\n",
    "        for j in range(int(len(population) / 2) - 1):\n",
    "            parents = selection_func(population, fitness_func)\n",
    "            offspring_a, offspring_b = crossover_func(parents[0], parents[1])\n",
    "            offspring_a = mutation_func(offspring_a)\n",
    "            offspring_b = mutation_func(offspring_b)\n",
    "            next_generation += [offspring_a, offspring_b]\n",
    "\n",
    "        population = next_generation\n",
    "\n",
    "    return population, i"
   ]
  },
  {
   "cell_type": "code",
   "execution_count": 35,
   "id": "2d1df6b9-5561-464e-a53c-77c4ca7aba38",
   "metadata": {},
   "outputs": [],
   "source": [
    "def genome_to_string(genome: Genome) -> str:\n",
    "    return \"\".join(map(str, genome))\n",
    "\n",
    "\n",
    "def genome_to_things(genome: Genome, things: [Thing]) -> [Thing]: \n",
    "    result = [] \n",
    "    for i, thing in enumerate(things): \n",
    "        if genome[i] == 1: \n",
    "            result += [thing.name] \n",
    "\n",
    "    return result "
   ]
  },
  {
   "cell_type": "code",
   "execution_count": 38,
   "id": "5e1e90cd-018c-4584-8177-38a6c554c463",
   "metadata": {},
   "outputs": [
    {
     "name": "stdout",
     "output_type": "stream",
     "text": [
      "Number of generation: 0\n",
      "best solution: ['Laptop', 'Headphones', 'Coffee Mug', 'Water Bottle']\n"
     ]
    }
   ],
   "source": [
    "population, generations = run_evolution(\n",
    "    populate_func=partial(\n",
    "        generate_population, size=10, genome_length=len(things)\n",
    "    ), \n",
    "    fitness_func=partial(\n",
    "        fitness, things=things, weight_limit=3000, \n",
    "    ), \n",
    "    fitness_limit=740, \n",
    "    generation_limit=100 \n",
    ")\n",
    "\n",
    "print(f\"Number of generation: {generations}\")\n",
    "print(f\"best solution: {genome_to_things(population[0], things)}\")"
   ]
  },
  {
   "cell_type": "code",
   "execution_count": 40,
   "id": "a84e6bd8-9e7f-4507-9498-0e64afbaf679",
   "metadata": {},
   "outputs": [
    {
     "name": "stdout",
     "output_type": "stream",
     "text": [
      "Number of generation: 8\n",
      "best solution: ['Phone', 'Baseball Cap', 'Laptop', 'Headphones', 'Coffee Mug']\n"
     ]
    }
   ],
   "source": [
    "population, generations = run_evolution(\n",
    "    populate_func=partial(\n",
    "        generate_population, size=10, genome_length=len(more_things)\n",
    "    ), \n",
    "    fitness_func=partial(\n",
    "        fitness, things=more_things, weight_limit=3000, \n",
    "    ), \n",
    "    fitness_limit=1310, \n",
    "    generation_limit=100 \n",
    ")\n",
    "\n",
    "print(f\"Number of generation: {generations}\")\n",
    "print(f\"best solution: {genome_to_things(population[0], more_things)}\")"
   ]
  },
  {
   "cell_type": "code",
   "execution_count": null,
   "id": "9ca2e9be-92de-4dff-bbab-b62627f69f4c",
   "metadata": {},
   "outputs": [],
   "source": []
  }
 ],
 "metadata": {
  "kernelspec": {
   "display_name": "Python 3 (ipykernel)",
   "language": "python",
   "name": "python3"
  },
  "language_info": {
   "codemirror_mode": {
    "name": "ipython",
    "version": 3
   },
   "file_extension": ".py",
   "mimetype": "text/x-python",
   "name": "python",
   "nbconvert_exporter": "python",
   "pygments_lexer": "ipython3",
   "version": "3.9.18"
  }
 },
 "nbformat": 4,
 "nbformat_minor": 5
}

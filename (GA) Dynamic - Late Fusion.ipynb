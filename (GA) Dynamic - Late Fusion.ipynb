{
 "cells": [
  {
   "cell_type": "markdown",
   "id": "b11a00a0-80ae-4890-8101-89fff4e39872",
   "metadata": {},
   "source": [
    "* NACC data documentation: https://files.alz.washington.edu/documentation/uds3-rdd.pdf "
   ]
  },
  {
   "cell_type": "code",
   "execution_count": 1,
   "id": "2bd94ae7-c933-40cf-87e3-c324c8a11086",
   "metadata": {},
   "outputs": [],
   "source": [
    "import warnings\n",
    "warnings.filterwarnings('ignore')\n",
    "\n",
    "import pandas as pd \n",
    "from tqdm import tqdm \n",
    "\n",
    "from collections import namedtuple\n",
    "from random import choices, randint, randrange, random \n",
    "from typing import List, Callable, Tuple \n",
    "from functools import partial\n",
    "\n",
    "from sklearn.ensemble import GradientBoostingClassifier\n",
    "from sklearn.ensemble import AdaBoostClassifier\n",
    "from sklearn.ensemble import RandomForestClassifier\n",
    "from xgboost import XGBClassifier\n",
    "from sklearn.neighbors import KNeighborsClassifier\n",
    "from sklearn.linear_model import LogisticRegression\n",
    "from sklearn.tree import DecisionTreeClassifier\n",
    "from sklearn.svm import SVC\n",
    "from lightgbm import LGBMClassifier\n",
    "\n",
    "from sklearn import datasets \n",
    "from deslib.des.knora_e import KNORAE \n",
    "from deslib.des.des_p import DESP\n",
    "from deslib.des.knop import KNOP\n",
    "  \n",
    "\n",
    "from sklearn.model_selection import train_test_split \n",
    "from sklearn.preprocessing import LabelEncoder\n",
    "\n",
    "from scipy.io import arff\n",
    "\n",
    "pd.set_option('display.max_columns', None)   "
   ]
  },
  {
   "cell_type": "code",
   "execution_count": 2,
   "id": "4189faea-8bd2-4aef-9d06-4506e9ff1862",
   "metadata": {},
   "outputs": [],
   "source": [
    "def side_by_side(*objs, **kwds):\n",
    "    from pandas.io.formats.printing import adjoin\n",
    "    space = kwds.get('space', 4)\n",
    "    reprs = [repr(obj).split('\\n') for obj in objs]\n",
    "    print (adjoin(space, *reprs))\n",
    "    print()\n",
    "    return"
   ]
  },
  {
   "cell_type": "code",
   "execution_count": 3,
   "id": "43271962-99db-4496-a9e7-d62dccb1c1b8",
   "metadata": {},
   "outputs": [],
   "source": [
    "BaseClassifier = namedtuple('BaseClassifier', ['model', 'features_set'])"
   ]
  },
  {
   "cell_type": "code",
   "execution_count": 4,
   "id": "01f6b7dd-bf83-4d5c-b385-6f874f976894",
   "metadata": {},
   "outputs": [],
   "source": [
    "import itertools \n",
    "from copy import deepcopy \n",
    "\n",
    "def generate_featureset_combination(features_set): \n",
    "    # Generate combinations of sets\n",
    "    set_combinations = []\n",
    "    for r in range(1, len(features_set) + 1):\n",
    "        set_combinations.extend(itertools.combinations(features_set, r)) \n",
    "\n",
    "    # Merge combinations of sets\n",
    "    merged_set_combinations = [] \n",
    "    for combination in set_combinations:\n",
    "        merged_features = [] \n",
    "        for features in combination: \n",
    "            merged_features += features \n",
    "    \n",
    "        merged_set_combinations.append(merged_features)\n",
    "\n",
    "    print(f\"Total combinations of feature sets: {len(merged_set_combinations)}\")\n",
    "\n",
    "    return merged_set_combinations \n",
    "\n",
    "\n",
    "def generate_pool(featureset_combinations, models):     \n",
    "    pool = [] \n",
    "\n",
    "    for model in models: \n",
    "        for feature_set in featureset_combinations: \n",
    "            pool.append(BaseClassifier(deepcopy(model), feature_set)) \n",
    "\n",
    "\n",
    "    print(f\"Pool size: {len(pool)}\") \n",
    "\n",
    "    return pool     "
   ]
  },
  {
   "cell_type": "code",
   "execution_count": 5,
   "id": "672915a9-e4ef-4ecf-b216-19e3c786822e",
   "metadata": {},
   "outputs": [],
   "source": [
    "from sklearn.metrics import accuracy_score  \n",
    "from des.knorau import * \n",
    "from mlxtend.classifier import EnsembleVoteClassifier \n",
    "from mlxtend.feature_selection import ColumnSelector\n",
    "from sklearn.pipeline import make_pipeline  \n",
    "\n",
    "Genome = List[int] \n",
    "Population = List[Genome] \n",
    "FitnessFunc = Callable[[Genome], float]\n",
    "PopulateFunc = Callable[[], Population]\n",
    "SelectionFunc = Callable[[Population, FitnessFunc], Tuple[Genome, Genome]]\n",
    "CrossoverFunc = Callable[[Genome, Genome], Tuple[Genome, Genome]] \n",
    "MutationFunc = Callable[[Genome], Genome]\n",
    "\n",
    "\n",
    "def generate_genome(length: int) -> Genome: \n",
    "    return choices([0, 1], k=length) \n",
    "\n",
    "\n",
    "def generate_population(size: int, genome_length: int) -> Population: \n",
    "    return [generate_genome(genome_length) for _ in range(size)] \n",
    "\n",
    "\n",
    "# def fitness(genome: Genome, pool: [BaseClassifier]) -> float: \n",
    "#     print(genome)\n",
    "#     # Initialize the DES model\n",
    "#     models       = [pool[i].model for i, val in enumerate(genome) if val == 1] \n",
    "#     feature_sets = [pool[i].features_set for i, val in enumerate(genome) if val == 1] \n",
    "    \n",
    "#     if len(models) <= 1: \n",
    "#         return 0 \n",
    "    \n",
    "#     knorau = KNORAU(models, feature_sets, k=7) \n",
    "    \n",
    "#     knorau.fit(X_dsel, y_dsel)\n",
    "\n",
    "#     preds = knorau.predict(X_test)   \n",
    "\n",
    "#     result = accuracy_score(y_test, preds)\n",
    "\n",
    "#     return result\n",
    "\n",
    "\n",
    "def fitness(genome: Genome, pool: [BaseClassifier]) -> float: \n",
    "    # print(genome)\n",
    "    # Initialize the DES model\n",
    "    models       = [pool[i].model for i, val in enumerate(genome) if val == 1] \n",
    "    feature_sets = [pool[i].features_set for i, val in enumerate(genome) if val == 1] \n",
    "    \n",
    "    if len(models) <= 1: \n",
    "        return 0 \n",
    "    \n",
    "    pipelines = [] \n",
    "    \n",
    "    for i in range(len(models)): \n",
    "        pipe = make_pipeline(ColumnSelector(cols=feature_sets[i]), models[i]) \n",
    "        pipelines.append(pipe)\n",
    "    \n",
    "    sclf = EnsembleVoteClassifier(clfs=pipelines, voting='soft') \n",
    "        \n",
    "    sclf.fit(X_train, y_train) \n",
    "\n",
    "    preds = sclf.predict(X_test)   \n",
    "\n",
    "    result = accuracy_score(y_test, preds)\n",
    "\n",
    "    return result\n",
    "\n",
    "\n",
    "def selection_pair(population: Population, fitness_func: FitnessFunc) -> Population: \n",
    "    return choices(\n",
    "        population=population, \n",
    "        weights=[fitness_func(genome) for genome in population], \n",
    "        k=2\n",
    "    )\n",
    "\n",
    "\n",
    "def single_point_crossover(a: Genome, b: Genome) -> Tuple[Genome, Genome]: \n",
    "    if len(a) != len(b): \n",
    "        raise ValueError(\"Genome a and b must be the same length\")\n",
    "\n",
    "\n",
    "    length = len(a) \n",
    "    if length < 2: \n",
    "        return a, b \n",
    "\n",
    "    p = randint(1, length - 1) \n",
    "    return a[0:p] + b[p:], b[0:p] + a[p:] \n",
    "\n",
    "\n",
    "def mutation(genome: Genome, num: int = 1, probability: float = 0.5) -> Genome: \n",
    "    for _ in range(num): \n",
    "        index = randrange(len(genome)) \n",
    "        genome[index] = genome[index] if random() > probability else abs(genome[index] - 1)\n",
    "\n",
    "    return genome \n",
    "\n",
    "\n",
    "def run_evolution(\n",
    "        populate_func: PopulateFunc,\n",
    "        fitness_func: FitnessFunc,\n",
    "        fitness_limit: int,\n",
    "        selection_func: SelectionFunc = selection_pair,\n",
    "        crossover_func: CrossoverFunc = single_point_crossover,\n",
    "        mutation_func: MutationFunc = mutation,\n",
    "        generation_limit: int = 100) \\\n",
    "        -> Tuple[Population, int]:\n",
    "    population = populate_func()\n",
    "\n",
    "    for i in range(generation_limit):\n",
    "        population = sorted(population, key=lambda genome: fitness_func(genome), reverse=True)\n",
    "        print(f\"Genome {population[0]}\")\n",
    "        print(f\"Best Score: {fitness(population[0], pool):.3f}\") \n",
    "\n",
    "        if fitness_func(population[0]) >= fitness_limit:\n",
    "            break\n",
    "\n",
    "        next_generation = population[0:2]\n",
    "\n",
    "        for j in range(int(len(population) / 2) - 1):\n",
    "            parents = selection_func(population, fitness_func)\n",
    "            offspring_a, offspring_b = crossover_func(parents[0], parents[1])\n",
    "            offspring_a = mutation_func(offspring_a)\n",
    "            offspring_b = mutation_func(offspring_b)\n",
    "            next_generation += [offspring_a, offspring_b]\n",
    "\n",
    "        population = next_generation\n",
    "        # print(genome_to_things(population[0], pool))\n",
    "        # print(f\"Best Score: {fitness(population[0], pool):.3f}\")\n",
    "\n",
    "    return population, i"
   ]
  },
  {
   "cell_type": "markdown",
   "id": "e6628de4-c866-4675-b02f-31ff946be1f6",
   "metadata": {},
   "source": [
    "### ADNI "
   ]
  },
  {
   "cell_type": "code",
   "execution_count": 5,
   "id": "dce2499b-7c11-43b0-a3a8-3c9b65c7855e",
   "metadata": {},
   "outputs": [],
   "source": [
    "mriDF            = pd.read_csv(\"datasets/adni/mri_statistics.csv\") \n",
    "assessmentDF     = pd.read_csv(\"datasets/adni/assessment_statistics.csv\")\n",
    "cognitiveScoreDF = pd.read_csv(\"datasets/adni/cogniteive_score_statistics.csv\") \n",
    "baselineDF       = pd.read_csv(\"datasets/adni/Baseline_final.csv\")  "
   ]
  },
  {
   "cell_type": "code",
   "execution_count": 6,
   "id": "aea86eea-3f7e-4384-a286-3db12be2b0b6",
   "metadata": {},
   "outputs": [
    {
     "name": "stdout",
     "output_type": "stream",
     "text": [
      "Dataset shape: (1371, 342)\n"
     ]
    }
   ],
   "source": [
    "completeDataDF = pd.merge(cognitiveScoreDF, assessmentDF, on=\"RID\", how=\"inner\")  \n",
    "completeDataDF = pd.merge(completeDataDF, mriDF, on=\"RID\", how=\"inner\")  \n",
    "completeDataDF = pd.merge(completeDataDF, baselineDF, on=\"RID\", how=\"inner\")  \n",
    "\n",
    "print(\"Dataset shape: {}\".format(completeDataDF.shape)) "
   ]
  },
  {
   "cell_type": "code",
   "execution_count": 7,
   "id": "44631677-1e59-4b2b-a1ac-df30447daff6",
   "metadata": {},
   "outputs": [],
   "source": [
    "TARGET_COLUMN = \"DX\"  \n",
    "\n",
    "mapping          = {\"AD\": 0, \"sMCI\": 1, \"CN\": 2, \"pMCI\": 3}   \n",
    "gender_mapping   = {'Male': 1, 'Female': 0}\n",
    "marriage_mapping = {'Married': 1, 'Widowed': 2, 'Divorced': 3, 'Never married': 0}\n",
    "\n",
    "dataset = completeDataDF.drop(['RID'], axis=1) \n",
    "\n",
    "dataset['DX'] = dataset['DX'].map(mapping)  \n",
    "dataset['PTGENDER'] = dataset['PTGENDER'].map(gender_mapping) \n",
    "dataset['PTMARRY'] = dataset['PTMARRY'].map(marriage_mapping)  \n",
    "\n",
    "X = dataset.drop([TARGET_COLUMN], axis=1)\n",
    "y = dataset[TARGET_COLUMN]\n",
    "\n",
    "X_train, X_test, y_train, y_test = train_test_split(X, y, stratify=y, test_size=0.30, random_state=42) \n",
    "X_train, X_dsel, y_train, y_dsel = train_test_split(X_train, y_train, stratify=y_train, test_size=0.20, random_state=42)  "
   ]
  },
  {
   "cell_type": "code",
   "execution_count": 8,
   "id": "56ba6aa0-a646-4bd2-9a8a-b90e9cb023e3",
   "metadata": {},
   "outputs": [],
   "source": [
    "### define the columns of each modalities \n",
    "cs_columns     = cognitiveScoreDF.drop(['RID'], axis=1).columns.tolist()\n",
    "nt_columns     = assessmentDF.drop(['RID'], axis=1).columns.tolist() \n",
    "mri_columns    = mriDF.drop(['RID'], axis=1).columns.tolist() \n",
    "static_columns = baselineDF.drop(['RID', 'DX'], axis=1).columns.tolist()  "
   ]
  },
  {
   "cell_type": "code",
   "execution_count": 9,
   "id": "d138db90-b880-44e9-990c-7b459e7de56f",
   "metadata": {},
   "outputs": [],
   "source": [
    "pool_classifiers = [\n",
    "    RandomForestClassifier(random_state=45), \n",
    "    XGBClassifier(random_state=45),  \n",
    "    # LGBMClassifier(verbose_eval = -1, random_state=45),\n",
    "    KNeighborsClassifier(), \n",
    "    DecisionTreeClassifier(random_state=45) \n",
    "    \n",
    "]\n",
    "\n",
    "feature_set = [\n",
    "    cs_columns, \n",
    "    nt_columns, \n",
    "    mri_columns, \n",
    "    static_columns\n",
    "]"
   ]
  },
  {
   "cell_type": "code",
   "execution_count": 10,
   "id": "cc21eb96-beda-429f-bc67-9c1e23ea6aad",
   "metadata": {},
   "outputs": [
    {
     "name": "stdout",
     "output_type": "stream",
     "text": [
      "Total combinations of feature sets: 15\n",
      "Pool size: 60\n"
     ]
    }
   ],
   "source": [
    "feature_sets = generate_featureset_combination(feature_set) \n",
    "pool = generate_pool(feature_sets, pool_classifiers)"
   ]
  },
  {
   "cell_type": "code",
   "execution_count": 11,
   "id": "540afc38-e7b2-4e24-b61c-70f4048ef498",
   "metadata": {},
   "outputs": [],
   "source": [
    "# for base_classifier in tqdm(pool):  \n",
    "#     base_classifier.model.fit(X_train[base_classifier.features_set], y_train) "
   ]
  },
  {
   "cell_type": "code",
   "execution_count": 12,
   "id": "67835314-aea8-4a71-8e3f-1f165c8925e6",
   "metadata": {
    "scrolled": true
   },
   "outputs": [
    {
     "name": "stdout",
     "output_type": "stream",
     "text": [
      "Genome [0, 0, 0, 0, 0, 0, 1, 0, 0, 0, 1, 1, 1, 0, 0, 0, 1, 1, 1, 0, 1, 0, 0, 1, 1, 1, 0, 0, 0, 0, 1, 0, 0, 0, 1, 0, 1, 0, 1, 0, 1, 1, 1, 1, 1, 0, 0, 0, 0, 1, 1, 0, 0, 1, 1, 1, 1, 1, 1, 0]\n",
      "Best Score: 0.881\n",
      "Genome [0, 0, 0, 0, 0, 0, 1, 0, 0, 0, 1, 1, 1, 0, 0, 0, 1, 1, 1, 0, 1, 0, 0, 1, 1, 1, 0, 0, 0, 0, 1, 0, 0, 0, 1, 0, 1, 0, 1, 0, 1, 1, 1, 1, 1, 0, 0, 0, 0, 1, 1, 0, 0, 1, 1, 1, 1, 1, 1, 0]\n",
      "Best Score: 0.881\n",
      "Genome [0, 0, 0, 0, 0, 0, 1, 0, 0, 0, 1, 1, 1, 0, 0, 0, 1, 1, 1, 0, 1, 0, 0, 1, 1, 1, 0, 0, 0, 0, 1, 0, 0, 0, 1, 0, 1, 0, 1, 0, 1, 1, 1, 1, 1, 0, 0, 0, 0, 1, 1, 0, 0, 1, 1, 1, 1, 1, 1, 0]\n",
      "Best Score: 0.881\n",
      "Genome [0, 0, 0, 0, 0, 0, 1, 0, 0, 0, 1, 1, 1, 0, 0, 0, 1, 1, 1, 0, 1, 0, 0, 1, 1, 1, 0, 0, 0, 0, 1, 0, 0, 0, 1, 0, 1, 0, 1, 0, 1, 1, 1, 1, 1, 0, 0, 0, 0, 1, 1, 0, 0, 1, 1, 1, 1, 1, 1, 0]\n",
      "Best Score: 0.881\n",
      "Genome [0, 0, 0, 0, 0, 0, 1, 0, 0, 0, 1, 1, 1, 0, 0, 0, 1, 1, 1, 0, 1, 0, 0, 1, 1, 1, 0, 0, 0, 0, 1, 0, 0, 0, 1, 0, 1, 0, 1, 0, 1, 1, 1, 1, 1, 0, 0, 0, 0, 1, 1, 0, 0, 1, 1, 1, 1, 1, 1, 0]\n",
      "Best Score: 0.881\n",
      "Genome [0, 0, 0, 0, 0, 0, 1, 0, 0, 0, 1, 1, 1, 0, 0, 0, 1, 1, 1, 0, 1, 0, 0, 1, 1, 1, 0, 0, 0, 0, 1, 0, 0, 0, 1, 0, 1, 0, 1, 0, 1, 1, 1, 1, 1, 0, 0, 0, 0, 1, 1, 0, 0, 1, 1, 1, 1, 1, 1, 0]\n",
      "Best Score: 0.881\n",
      "Genome [0, 0, 0, 0, 0, 0, 1, 0, 0, 0, 1, 1, 1, 0, 0, 0, 1, 1, 1, 0, 1, 0, 0, 1, 1, 1, 0, 0, 0, 0, 1, 0, 0, 0, 1, 0, 1, 0, 1, 0, 1, 1, 1, 1, 1, 0, 0, 0, 0, 1, 1, 0, 0, 1, 1, 1, 1, 1, 1, 0]\n",
      "Best Score: 0.881\n",
      "Genome [0, 0, 0, 0, 0, 0, 1, 0, 0, 0, 1, 1, 1, 0, 0, 0, 1, 1, 1, 0, 1, 0, 1, 0, 1, 1, 1, 1, 0, 0, 1, 1, 0, 0, 1, 1, 0, 0, 0, 1, 0, 0, 0, 0, 0, 0, 1, 0, 0, 1, 0, 1, 0, 0, 0, 1, 1, 0, 0, 0]\n",
      "Best Score: 0.883\n",
      "Genome [0, 0, 0, 0, 0, 0, 1, 0, 0, 0, 1, 1, 1, 0, 0, 0, 1, 1, 1, 0, 1, 0, 1, 0, 1, 1, 1, 1, 0, 0, 1, 1, 0, 0, 1, 1, 0, 0, 0, 1, 0, 0, 0, 0, 0, 0, 1, 0, 0, 1, 0, 1, 0, 0, 0, 1, 1, 0, 0, 0]\n",
      "Best Score: 0.883\n",
      "Genome [0, 0, 0, 0, 0, 0, 1, 0, 0, 0, 1, 1, 1, 0, 0, 0, 1, 1, 1, 0, 1, 0, 1, 0, 1, 1, 1, 1, 0, 0, 1, 1, 0, 0, 1, 1, 0, 0, 0, 1, 0, 0, 0, 0, 0, 0, 1, 0, 0, 1, 0, 1, 0, 0, 0, 1, 1, 0, 0, 0]\n",
      "Best Score: 0.883\n",
      "Genome [0, 0, 0, 0, 0, 0, 1, 0, 0, 0, 1, 1, 1, 0, 0, 0, 1, 1, 1, 0, 1, 0, 1, 0, 1, 1, 1, 1, 0, 0, 1, 1, 0, 0, 1, 1, 0, 0, 0, 1, 0, 0, 0, 0, 0, 0, 1, 0, 0, 1, 0, 1, 0, 0, 0, 1, 1, 0, 0, 0]\n",
      "Best Score: 0.883\n",
      "Genome [0, 0, 0, 0, 0, 0, 1, 0, 0, 0, 1, 1, 1, 0, 0, 0, 1, 1, 1, 0, 1, 0, 1, 0, 1, 1, 1, 1, 0, 0, 1, 1, 0, 0, 1, 1, 0, 0, 0, 1, 0, 0, 0, 0, 0, 0, 1, 0, 0, 1, 0, 1, 0, 0, 0, 1, 1, 0, 0, 0]\n",
      "Best Score: 0.883\n",
      "Genome [1, 0, 0, 0, 0, 0, 1, 0, 0, 0, 1, 1, 1, 0, 0, 0, 1, 1, 1, 0, 1, 0, 1, 0, 1, 1, 1, 1, 0, 0, 1, 1, 0, 0, 1, 1, 0, 0, 0, 1, 0, 0, 0, 0, 0, 0, 1, 0, 0, 1, 0, 1, 0, 0, 0, 1, 1, 0, 0, 0]\n",
      "Best Score: 0.886\n",
      "Genome [1, 0, 0, 0, 0, 0, 1, 0, 0, 0, 1, 1, 1, 0, 0, 0, 1, 1, 1, 0, 1, 0, 1, 0, 1, 1, 1, 1, 0, 0, 1, 1, 0, 0, 1, 1, 0, 0, 0, 1, 0, 0, 0, 0, 0, 0, 1, 0, 0, 1, 0, 1, 0, 0, 0, 1, 1, 0, 0, 0]\n",
      "Best Score: 0.886\n",
      "Genome [1, 0, 0, 0, 1, 0, 0, 0, 1, 0, 1, 1, 0, 0, 1, 1, 1, 1, 1, 0, 1, 0, 1, 0, 1, 1, 1, 1, 0, 0, 1, 1, 0, 0, 1, 1, 0, 0, 0, 1, 0, 0, 0, 0, 0, 0, 1, 0, 0, 1, 0, 1, 0, 0, 0, 1, 0, 0, 1, 0]\n",
      "Best Score: 0.888\n",
      "Genome [1, 0, 0, 0, 1, 0, 0, 0, 1, 0, 1, 1, 0, 0, 1, 1, 1, 1, 1, 0, 1, 0, 1, 0, 1, 1, 1, 1, 0, 0, 1, 1, 0, 0, 1, 1, 0, 0, 0, 1, 0, 0, 0, 0, 0, 0, 1, 0, 0, 1, 0, 1, 0, 0, 0, 1, 0, 0, 1, 0]\n",
      "Best Score: 0.888\n",
      "Genome [1, 0, 0, 0, 1, 0, 0, 0, 1, 0, 1, 1, 0, 0, 1, 1, 1, 1, 1, 0, 1, 0, 1, 0, 1, 1, 1, 1, 0, 0, 1, 1, 0, 0, 1, 1, 0, 0, 0, 1, 0, 0, 0, 0, 0, 0, 1, 0, 0, 1, 0, 1, 0, 0, 0, 1, 0, 0, 1, 0]\n",
      "Best Score: 0.888\n",
      "Genome [0, 0, 0, 0, 0, 0, 0, 0, 1, 0, 1, 1, 1, 0, 0, 0, 1, 1, 1, 0, 1, 0, 1, 0, 1, 1, 1, 1, 0, 0, 1, 1, 0, 0, 1, 1, 0, 0, 0, 1, 0, 0, 0, 0, 0, 0, 0, 0, 0, 1, 0, 1, 0, 0, 1, 1, 1, 0, 1, 0]\n",
      "Best Score: 0.891\n",
      "Genome [0, 0, 0, 0, 0, 0, 0, 0, 1, 0, 1, 1, 1, 0, 0, 0, 1, 1, 1, 0, 1, 0, 1, 0, 1, 1, 1, 1, 0, 0, 1, 1, 0, 0, 1, 1, 0, 0, 0, 1, 0, 0, 0, 0, 0, 0, 0, 0, 0, 1, 0, 1, 0, 0, 1, 1, 1, 0, 1, 0]\n",
      "Best Score: 0.891\n",
      "Genome [0, 0, 0, 0, 0, 0, 0, 0, 1, 0, 1, 1, 1, 0, 0, 0, 1, 1, 1, 0, 1, 0, 1, 0, 1, 1, 1, 1, 0, 0, 1, 1, 0, 0, 1, 1, 0, 0, 0, 1, 0, 0, 0, 0, 0, 0, 0, 0, 0, 1, 0, 1, 0, 0, 1, 1, 1, 0, 1, 0]\n",
      "Best Score: 0.891\n",
      "Genome [0, 0, 0, 0, 0, 0, 0, 0, 1, 0, 1, 1, 1, 0, 0, 0, 1, 1, 1, 0, 1, 0, 1, 0, 1, 1, 1, 1, 0, 0, 1, 1, 0, 0, 1, 1, 0, 0, 0, 1, 0, 0, 0, 0, 0, 0, 0, 0, 0, 1, 0, 1, 0, 0, 1, 1, 1, 0, 1, 0]\n",
      "Best Score: 0.891\n",
      "Genome [0, 0, 0, 0, 0, 0, 0, 0, 1, 0, 1, 1, 0, 0, 0, 0, 1, 1, 1, 0, 1, 0, 1, 0, 1, 1, 1, 1, 0, 0, 1, 1, 0, 0, 1, 1, 0, 0, 0, 1, 0, 0, 0, 0, 0, 0, 0, 0, 0, 1, 0, 1, 0, 0, 1, 1, 1, 0, 1, 0]\n",
      "Best Score: 0.893\n",
      "Genome [0, 0, 0, 0, 0, 0, 0, 0, 1, 0, 1, 1, 0, 0, 0, 0, 1, 1, 1, 0, 1, 0, 1, 0, 1, 1, 1, 1, 0, 0, 1, 1, 0, 0, 1, 1, 0, 0, 0, 1, 0, 0, 0, 0, 0, 0, 0, 0, 0, 1, 0, 1, 0, 0, 1, 1, 1, 0, 1, 0]\n",
      "Best Score: 0.893\n",
      "Genome [0, 0, 0, 0, 0, 0, 0, 0, 1, 0, 1, 1, 0, 0, 0, 0, 1, 1, 1, 0, 1, 0, 1, 0, 1, 1, 1, 1, 0, 0, 1, 1, 0, 0, 1, 1, 0, 0, 0, 1, 0, 0, 0, 0, 0, 0, 0, 0, 0, 1, 0, 1, 0, 0, 1, 1, 1, 0, 1, 0]\n",
      "Best Score: 0.893\n",
      "Genome [0, 0, 0, 0, 0, 0, 0, 0, 1, 0, 1, 1, 0, 0, 0, 0, 1, 1, 1, 0, 1, 0, 1, 0, 1, 1, 1, 1, 0, 0, 1, 1, 0, 0, 1, 1, 0, 0, 0, 1, 0, 0, 0, 0, 0, 0, 0, 0, 0, 1, 0, 1, 0, 0, 1, 1, 1, 0, 1, 0]\n",
      "Best Score: 0.893\n",
      "Genome [0, 0, 0, 0, 0, 0, 0, 0, 1, 0, 1, 1, 0, 0, 0, 0, 1, 1, 1, 0, 1, 0, 1, 0, 1, 1, 1, 1, 0, 0, 1, 1, 0, 0, 1, 1, 0, 0, 0, 1, 0, 0, 0, 0, 0, 0, 0, 0, 0, 1, 0, 1, 0, 0, 1, 1, 1, 0, 1, 0]\n",
      "Best Score: 0.893\n",
      "Genome [0, 0, 0, 0, 0, 0, 0, 0, 1, 0, 1, 1, 0, 0, 0, 0, 1, 1, 1, 0, 1, 0, 1, 0, 1, 1, 1, 1, 0, 0, 1, 1, 0, 0, 1, 1, 0, 0, 0, 1, 0, 0, 0, 0, 0, 0, 0, 0, 0, 1, 0, 1, 0, 0, 1, 1, 1, 0, 1, 0]\n",
      "Best Score: 0.893\n",
      "Genome [0, 0, 0, 0, 0, 0, 0, 0, 1, 0, 1, 1, 0, 0, 0, 0, 1, 1, 1, 0, 1, 0, 1, 0, 1, 1, 1, 1, 0, 0, 1, 1, 0, 0, 1, 1, 0, 0, 0, 1, 0, 0, 0, 0, 0, 0, 0, 0, 0, 1, 0, 1, 0, 0, 1, 1, 1, 0, 1, 0]\n",
      "Best Score: 0.893\n",
      "Genome [0, 0, 0, 0, 0, 0, 0, 0, 1, 0, 1, 1, 0, 0, 0, 0, 1, 1, 1, 0, 1, 0, 1, 0, 1, 1, 1, 1, 0, 0, 1, 1, 0, 0, 1, 1, 0, 0, 0, 1, 0, 0, 0, 0, 0, 0, 0, 0, 0, 1, 0, 1, 0, 0, 1, 1, 1, 0, 1, 0]\n",
      "Best Score: 0.893\n",
      "Genome [0, 0, 0, 0, 0, 0, 0, 0, 1, 0, 1, 1, 0, 0, 0, 0, 1, 1, 1, 0, 1, 0, 1, 0, 1, 1, 1, 1, 0, 0, 1, 1, 0, 0, 1, 1, 0, 0, 0, 1, 0, 0, 0, 0, 0, 0, 0, 0, 0, 1, 0, 1, 0, 0, 1, 1, 1, 0, 1, 0]\n",
      "Best Score: 0.893\n",
      "Number of generation: 29\n"
     ]
    }
   ],
   "source": [
    "population, generations = run_evolution(\n",
    "    populate_func=partial(\n",
    "        generate_population, size=10, genome_length=len(pool)\n",
    "    ), \n",
    "    fitness_func=partial(\n",
    "        fitness, pool=pool \n",
    "    ), \n",
    "    fitness_limit=0.9, \n",
    "    generation_limit=30 \n",
    ")\n",
    "\n",
    "print(f\"Number of generation: {generations}\")"
   ]
  },
  {
   "cell_type": "markdown",
   "id": "4ea5cc3c-6f62-48e3-bd7a-236881f5ae07",
   "metadata": {},
   "source": [
    "### Alzheimer NACC "
   ]
  },
  {
   "cell_type": "code",
   "execution_count": 6,
   "id": "5ccae35a-367a-437f-9edd-3de9e4ddce06",
   "metadata": {},
   "outputs": [],
   "source": [
    "nacc_dataset = pd.read_csv(\"datasets/nacc/investigator_nacc64.csv\")"
   ]
  },
  {
   "cell_type": "code",
   "execution_count": 7,
   "id": "d425b4f2-ce66-4ae9-b44e-3c09a1f40967",
   "metadata": {},
   "outputs": [],
   "source": [
    "demographics = ['BIRTHMO', 'BIRTHYR', 'SEX', 'HISPANIC', 'HISPOR', 'RACE', 'RACESEC', 'PRIMLANG', 'EDUC', 'MARISTAT', \n",
    "                'NACCLIVS', 'INDEPEND', 'RESIDENC', 'HANDED', 'NACCAGE', 'NACCAGEB', 'NACCNIHR']\n",
    "\n",
    "\n",
    "physical = ['HEIGHT', 'WEIGHT', 'NACCBMI', 'BPSYS', 'BPDIAS', 'HRATE', 'VISION', 'VISCORR', 'VISWCORR', 'HEARING', 'HEARAID', 'HEARWAID']\n",
    "\n",
    "\n",
    "medications = ['ANYMEDS', 'DRUG1', 'DRUG2', 'DRUG3', 'DRUG4', 'DRUG5', 'DRUG6', 'DRUG7', 'DRUG8', 'DRUG9', 'DRUG10', \n",
    "               'DRUG11', 'DRUG12', 'DRUG13', 'DRUG14', 'DRUG15', 'DRUG16', 'DRUG17', 'DRUG18', 'DRUG19', 'DRUG20', \n",
    "               'DRUG21', 'DRUG22', 'DRUG23', 'DRUG24', 'DRUG25', 'DRUG26', 'DRUG27', 'DRUG28', 'DRUG29', 'DRUG30', \n",
    "               'DRUG31', 'DRUG32', 'DRUG33', 'DRUG34', 'DRUG35', 'DRUG36', 'DRUG37', 'DRUG38', 'DRUG39', 'DRUG40', \n",
    "               'NACCAMD', 'NACCAHTN', 'NACCHTNC', 'NACCACEI', 'NACCAAAS', 'NACCBETA', 'NACCCCBS', 'NACCDIUR', 'NACCVASD', \n",
    "               'NACCANGI', 'NACCLIPL', 'NACCNSD', 'NACCAC', 'NACCADEP', 'NACCAPSY', 'NACCAANX', 'NACCADMD', 'NACCPDMD', \n",
    "               'NACCEMD', 'NACCEPMD', 'NACCDBMD']\n",
    "\n",
    "\n",
    "health_history = ['TOBAC30', 'TOBAC100', 'SMOKYRS', 'PACKSPER', 'QUITSMOK', 'CVHATT', 'CVAFIB', 'CVANGIO', \n",
    "                  'CVBYPASS', 'CVPACE', 'CVCHF', 'CVOTHR', 'CBSTROKE', 'NACCSTYR', 'CBTIA', 'NACCTIYR', \n",
    "                  'PD', 'PDOTHR', 'SEIZURES', 'TRAUMBRF', 'TRAUMEXT', 'TRAUMCHR', 'NCOTHR', \n",
    "                  'DIABETES', 'HYPERTEN', 'HYPERCHO', 'B12DEF', 'THYROID', 'INCONTU', 'INCONTF', 'ALCOHOL', \n",
    "                  'ABUSOTHR', 'DEP2YRS', 'DEPOTHR', 'PSYCDIS', 'NACCTBI']\n",
    "\n",
    "neuropsychiatric_inventory_questionnaire = ['NPIQINF', 'DEL', 'DELSEV', 'HALL', 'HALLSEV', 'AGIT', 'AGITSEV', 'DEPD', 'DEPDSEV', \n",
    "                                            'ANX', 'ANXSEV', 'ELAT', 'ELATSEV', 'APA', 'APASEV', 'DISN', 'DISNSEV', 'IRR', 'IRRSEV', \n",
    "                                            'MOT', 'MOTSEV', 'NITE', 'NITESEV', 'APP', 'APPSEV']\n",
    "\n",
    "geriatric_depression_scale = ['NOGDS', 'SATIS', 'DROPACT', 'EMPTY', 'BORED', 'SPIRITS', 'AFRAID', 'HAPPY', 'HELPLESS', 'STAYHOME', \n",
    "                              'MEMPROB', 'WONDRFUL', 'WRTHLESS', 'ENERGY', 'HOPELESS', 'BETTER', 'NACCGDS']\n",
    "\n",
    "all_columns = demographics + physical + health_history + neuropsychiatric_inventory_questionnaire + geriatric_depression_scale"
   ]
  },
  {
   "cell_type": "code",
   "execution_count": null,
   "id": "c12c5f2e-02d1-4650-a0e0-0bc41744bbd5",
   "metadata": {},
   "outputs": [],
   "source": []
  },
  {
   "cell_type": "code",
   "execution_count": 8,
   "id": "67398d5d-b406-4590-9576-e3112be221d9",
   "metadata": {},
   "outputs": [],
   "source": [
    "TARGET = 'CDRGLOB' # Global Clinical Dementia Rating \n",
    "VISIT_ORDER = 1  # NACCVNUM \n",
    "\n",
    "dataset = nacc_dataset[nacc_dataset.NACCVNUM == VISIT_ORDER] \n",
    "all_columns.append(TARGET)\n",
    "\n",
    "dataset[dataset[TARGET].isin([1. ,  0. ,  2. ,  3.])] \n",
    "dataset[TARGET] = dataset[TARGET].astype(int)\n",
    "\n",
    "dataset.fillna(0, inplace=True) \n",
    "\n",
    "X = dataset[all_columns]\n",
    "y = dataset[TARGET]\n",
    "\n",
    "X_train, X_test, y_train, y_test = train_test_split(X, y, stratify=y, test_size=0.30, random_state=42) \n",
    "X_train, X_dsel, y_train, y_dsel = train_test_split(X_train, y_train, stratify=y_train, test_size=0.25, random_state=42)   "
   ]
  },
  {
   "cell_type": "code",
   "execution_count": 9,
   "id": "9b0780ae-c91b-4307-862f-644c91c0259f",
   "metadata": {},
   "outputs": [
    {
     "name": "stdout",
     "output_type": "stream",
     "text": [
      "BIRTHMO     0                BIRTHMO     15078        \n",
      "BIRTHYR     0                BIRTHYR     15078        \n",
      "SEX         0                SEX         15078        \n",
      "HISPANIC    0                HISPANIC    15078        \n",
      "HISPOR      0                HISPOR      15078        \n",
      "           ..                            ...          \n",
      "ENERGY      0                ENERGY      15078        \n",
      "HOPELESS    0                HOPELESS    15078        \n",
      "BETTER      0                BETTER      15078        \n",
      "NACCGDS     0                NACCGDS     15078        \n",
      "CDRGLOB     0                CDRGLOB     15078        \n",
      "Length: 108, dtype: int64    Length: 108, dtype: int64\n",
      "\n"
     ]
    }
   ],
   "source": [
    "side_by_side(X_test.isnull().sum(), X_test.count())  "
   ]
  },
  {
   "cell_type": "code",
   "execution_count": 10,
   "id": "c29fec46-7008-4fa4-8ac2-3cf0eccd5c38",
   "metadata": {},
   "outputs": [],
   "source": [
    "pool_classifiers = [\n",
    "    RandomForestClassifier(random_state=45), \n",
    "    XGBClassifier(random_state=45),  \n",
    "    # LGBMClassifier(verbose_eval = -1, random_state=45),\n",
    "    # KNeighborsClassifier(), \n",
    "    DecisionTreeClassifier(random_state=45) \n",
    "    \n",
    "]\n",
    "\n",
    "feature_set = [\n",
    "    demographics, \n",
    "    physical, \n",
    "    health_history, \n",
    "    neuropsychiatric_inventory_questionnaire, \n",
    "    geriatric_depression_scale\n",
    "]"
   ]
  },
  {
   "cell_type": "code",
   "execution_count": 11,
   "id": "acec2ae5-52f3-457d-8ff5-c16bfe9d53f2",
   "metadata": {},
   "outputs": [
    {
     "name": "stdout",
     "output_type": "stream",
     "text": [
      "Total combinations of feature sets: 31\n",
      "Pool size: 93\n"
     ]
    }
   ],
   "source": [
    "feature_sets = generate_featureset_combination(feature_set) \n",
    "pool = generate_pool(feature_sets, pool_classifiers)"
   ]
  },
  {
   "cell_type": "code",
   "execution_count": null,
   "id": "76254a56-5411-4929-ae53-1544748116a8",
   "metadata": {},
   "outputs": [
    {
     "name": "stdout",
     "output_type": "stream",
     "text": [
      "Genome [0, 0, 1, 1, 0, 0, 1, 0, 1, 0, 1, 1, 0, 0, 1, 0, 0, 0, 1, 0, 0, 0, 1, 0, 0, 1, 1, 0, 1, 0, 0, 1, 0, 0, 1, 0, 0, 0, 1, 0, 0, 0, 0, 0, 0, 0, 1, 0, 1, 1, 1, 1, 0, 1, 0, 1, 1, 0, 0, 0, 1, 1, 1, 0, 1, 1, 1, 1, 0, 0, 0, 0, 0, 1, 1, 1, 0, 1, 1, 0, 0, 1, 1, 0, 1, 1, 0, 1, 1, 1, 0, 0, 0]\n",
      "Best Score: 0.813\n",
      "Genome [0, 0, 1, 1, 0, 0, 1, 0, 1, 0, 1, 1, 0, 0, 1, 0, 0, 0, 1, 0, 0, 0, 1, 0, 0, 1, 1, 0, 1, 0, 0, 1, 0, 0, 1, 0, 0, 0, 1, 0, 0, 0, 0, 0, 0, 0, 1, 0, 1, 1, 1, 1, 0, 1, 0, 1, 1, 0, 0, 0, 1, 1, 1, 0, 1, 1, 1, 1, 0, 0, 0, 0, 0, 1, 1, 1, 0, 1, 1, 0, 0, 1, 1, 1, 0, 0, 0, 1, 0, 1, 0, 0, 1]\n",
      "Best Score: 0.815\n",
      "Genome [0, 0, 1, 1, 0, 0, 1, 0, 1, 0, 1, 1, 0, 0, 1, 0, 0, 0, 1, 0, 0, 0, 1, 0, 0, 1, 1, 0, 1, 0, 0, 1, 0, 0, 1, 0, 0, 0, 1, 0, 0, 0, 0, 0, 0, 0, 1, 0, 1, 1, 1, 1, 0, 1, 0, 1, 1, 0, 0, 0, 1, 1, 1, 0, 1, 1, 1, 1, 0, 0, 0, 0, 0, 1, 1, 1, 0, 1, 1, 0, 0, 1, 1, 1, 0, 0, 0, 1, 0, 1, 0, 0, 1]\n",
      "Best Score: 0.815\n",
      "Genome [0, 0, 1, 1, 0, 0, 1, 0, 1, 0, 1, 1, 0, 0, 1, 0, 0, 0, 1, 0, 0, 0, 1, 0, 0, 1, 1, 0, 1, 0, 0, 1, 0, 0, 1, 0, 0, 0, 1, 0, 0, 0, 0, 0, 0, 0, 1, 0, 1, 1, 1, 1, 0, 1, 0, 1, 1, 0, 0, 0, 1, 1, 1, 0, 1, 1, 1, 1, 0, 0, 0, 0, 0, 1, 1, 1, 0, 1, 1, 0, 0, 1, 1, 1, 0, 0, 0, 1, 0, 1, 0, 0, 1]\n",
      "Best Score: 0.815\n",
      "Genome [0, 0, 1, 1, 0, 0, 1, 0, 1, 0, 1, 1, 0, 0, 1, 0, 0, 0, 1, 0, 0, 0, 1, 0, 0, 1, 1, 0, 1, 0, 0, 1, 0, 0, 1, 0, 0, 0, 1, 0, 0, 0, 0, 0, 0, 0, 1, 0, 1, 1, 1, 1, 0, 1, 0, 1, 1, 0, 0, 0, 1, 1, 1, 0, 1, 1, 1, 1, 0, 0, 0, 0, 0, 1, 1, 1, 0, 1, 1, 0, 0, 1, 1, 1, 0, 0, 0, 1, 0, 1, 0, 0, 1]\n",
      "Best Score: 0.815\n",
      "Genome [0, 1, 0, 0, 0, 0, 1, 0, 1, 0, 1, 1, 1, 0, 1, 0, 0, 0, 1, 0, 1, 1, 1, 0, 0, 1, 1, 0, 1, 0, 0, 1, 0, 0, 1, 0, 0, 0, 1, 0, 0, 0, 0, 0, 0, 0, 1, 0, 1, 1, 1, 1, 0, 1, 0, 1, 1, 0, 0, 0, 1, 1, 1, 0, 1, 1, 1, 1, 0, 0, 0, 0, 0, 1, 1, 1, 0, 1, 1, 0, 0, 1, 1, 1, 0, 0, 0, 1, 0, 1, 0, 0, 1]\n",
      "Best Score: 0.816\n",
      "Genome [0, 0, 0, 0, 0, 0, 1, 0, 1, 0, 1, 1, 1, 0, 1, 0, 0, 0, 1, 0, 1, 1, 1, 0, 0, 1, 0, 0, 1, 0, 0, 1, 0, 0, 1, 0, 0, 0, 1, 0, 0, 0, 0, 0, 0, 0, 1, 0, 1, 1, 1, 1, 0, 1, 0, 1, 1, 0, 0, 0, 1, 1, 1, 0, 1, 1, 1, 1, 0, 0, 0, 0, 0, 1, 1, 1, 0, 1, 1, 0, 0, 1, 1, 1, 0, 0, 0, 1, 0, 1, 0, 0, 1]\n",
      "Best Score: 0.816\n",
      "Genome [0, 0, 0, 0, 0, 0, 1, 0, 1, 0, 1, 1, 1, 0, 1, 0, 0, 0, 1, 0, 1, 1, 1, 0, 0, 1, 0, 0, 1, 0, 0, 1, 0, 0, 1, 0, 0, 0, 1, 0, 0, 0, 0, 0, 0, 0, 1, 0, 1, 1, 1, 1, 0, 1, 0, 1, 1, 0, 0, 0, 1, 1, 1, 0, 1, 1, 1, 1, 0, 0, 0, 0, 0, 1, 1, 1, 0, 1, 1, 0, 0, 1, 1, 1, 0, 0, 0, 0, 0, 1, 0, 0, 1]\n",
      "Best Score: 0.816\n",
      "Genome [0, 0, 0, 0, 0, 0, 1, 0, 1, 0, 1, 1, 1, 0, 1, 0, 0, 0, 1, 0, 0, 1, 1, 0, 0, 1, 1, 0, 1, 0, 0, 1, 0, 0, 1, 0, 0, 0, 1, 0, 0, 0, 0, 0, 0, 0, 1, 0, 1, 1, 1, 1, 0, 0, 0, 1, 1, 0, 0, 0, 1, 1, 1, 0, 1, 1, 1, 1, 0, 0, 0, 0, 0, 1, 1, 1, 0, 1, 1, 0, 0, 1, 1, 1, 0, 0, 0, 1, 0, 1, 0, 0, 1]\n",
      "Best Score: 0.817\n",
      "Genome [1, 0, 1, 1, 0, 0, 1, 0, 1, 0, 1, 0, 0, 0, 1, 0, 0, 0, 1, 0, 0, 0, 1, 1, 0, 1, 1, 0, 1, 0, 0, 1, 0, 0, 1, 0, 0, 0, 1, 0, 0, 0, 0, 0, 0, 0, 1, 0, 1, 1, 1, 1, 0, 0, 0, 1, 1, 0, 0, 0, 1, 1, 1, 0, 1, 1, 1, 1, 0, 0, 0, 0, 0, 1, 1, 1, 0, 1, 1, 0, 0, 1, 1, 1, 0, 0, 0, 1, 0, 1, 0, 0, 1]\n",
      "Best Score: 0.817\n"
     ]
    }
   ],
   "source": [
    "population, generations = run_evolution(\n",
    "    populate_func=partial(\n",
    "        generate_population, size=10, genome_length=len(pool)\n",
    "    ), \n",
    "    fitness_func=partial(\n",
    "        fitness, pool=pool \n",
    "    ), \n",
    "    fitness_limit=0.9, \n",
    "    generation_limit=30 \n",
    ")\n",
    "\n",
    "print(f\"Number of generation: {generations}\")"
   ]
  },
  {
   "cell_type": "code",
   "execution_count": null,
   "id": "e49cb3b4-44ca-409c-8e76-1eaa61c5ee4f",
   "metadata": {},
   "outputs": [],
   "source": []
  }
 ],
 "metadata": {
  "kernelspec": {
   "display_name": "Python 3 (ipykernel)",
   "language": "python",
   "name": "python3"
  },
  "language_info": {
   "codemirror_mode": {
    "name": "ipython",
    "version": 3
   },
   "file_extension": ".py",
   "mimetype": "text/x-python",
   "name": "python",
   "nbconvert_exporter": "python",
   "pygments_lexer": "ipython3",
   "version": "3.9.18"
  }
 },
 "nbformat": 4,
 "nbformat_minor": 5
}
